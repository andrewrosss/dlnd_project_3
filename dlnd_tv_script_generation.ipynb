{
 "cells": [
  {
   "cell_type": "markdown",
   "metadata": {},
   "source": [
    "# TV Script Generation\n",
    "In this project, you'll generate your own [Simpsons](https://en.wikipedia.org/wiki/The_Simpsons) TV scripts using RNNs.  You'll be using part of the [Simpsons dataset](https://www.kaggle.com/wcukierski/the-simpsons-by-the-data) of scripts from 27 seasons.  The Neural Network you'll build will generate a new TV script for a scene at [Moe's Tavern](https://simpsonswiki.com/wiki/Moe's_Tavern).\n",
    "## Get the Data\n",
    "The data is already provided for you.  You'll be using a subset of the original dataset.  It consists of only the scenes in Moe's Tavern.  This doesn't include other versions of the tavern, like \"Moe's Cavern\", \"Flaming Moe's\", \"Uncle Moe's Family Feed-Bag\", etc.."
   ]
  },
  {
   "cell_type": "code",
   "execution_count": 1,
   "metadata": {
    "collapsed": true
   },
   "outputs": [],
   "source": [
    "\"\"\"\n",
    "DON'T MODIFY ANYTHING IN THIS CELL\n",
    "\"\"\"\n",
    "import helper\n",
    "\n",
    "data_dir = './data/simpsons/moes_tavern_lines.txt'\n",
    "text = helper.load_data(data_dir)\n",
    "# Ignore notice, since we don't use it for analysing the data\n",
    "text = text[81:]"
   ]
  },
  {
   "cell_type": "markdown",
   "metadata": {},
   "source": [
    "## Explore the Data\n",
    "Play around with `view_sentence_range` to view different parts of the data."
   ]
  },
  {
   "cell_type": "code",
   "execution_count": 2,
   "metadata": {},
   "outputs": [
    {
     "name": "stdout",
     "output_type": "stream",
     "text": [
      "Dataset Stats\n",
      "Roughly the number of unique words: 11492\n",
      "Number of scenes: 262\n",
      "Average number of sentences in each scene: 15.248091603053435\n",
      "Number of lines: 4257\n",
      "Average number of words in each line: 11.50434578341555\n",
      "\n",
      "The sentences 0 to 10:\n",
      "Moe_Szyslak: (INTO PHONE) Moe's Tavern. Where the elite meet to drink.\n",
      "Bart_Simpson: Eh, yeah, hello, is Mike there? Last name, Rotch.\n",
      "Moe_Szyslak: (INTO PHONE) Hold on, I'll check. (TO BARFLIES) Mike Rotch. Mike Rotch. Hey, has anybody seen Mike Rotch, lately?\n",
      "Moe_Szyslak: (INTO PHONE) Listen you little puke. One of these days I'm gonna catch you, and I'm gonna carve my name on your back with an ice pick.\n",
      "Moe_Szyslak: What's the matter Homer? You're not your normal effervescent self.\n",
      "Homer_Simpson: I got my problems, Moe. Give me another one.\n",
      "Moe_Szyslak: Homer, hey, you should not drink to forget your problems.\n",
      "Barney_Gumble: Yeah, you should only drink to enhance your social skills.\n",
      "\n",
      "\n"
     ]
    }
   ],
   "source": [
    "view_sentence_range = (0, 10)\n",
    "\n",
    "\"\"\"\n",
    "DON'T MODIFY ANYTHING IN THIS CELL\n",
    "\"\"\"\n",
    "import numpy as np\n",
    "\n",
    "print('Dataset Stats')\n",
    "print('Roughly the number of unique words: {}'.format(len({word: None for word in text.split()})))\n",
    "scenes = text.split('\\n\\n')\n",
    "print('Number of scenes: {}'.format(len(scenes)))\n",
    "sentence_count_scene = [scene.count('\\n') for scene in scenes]\n",
    "print('Average number of sentences in each scene: {}'.format(np.average(sentence_count_scene)))\n",
    "\n",
    "sentences = [sentence for scene in scenes for sentence in scene.split('\\n')]\n",
    "print('Number of lines: {}'.format(len(sentences)))\n",
    "word_count_sentence = [len(sentence.split()) for sentence in sentences]\n",
    "print('Average number of words in each line: {}'.format(np.average(word_count_sentence)))\n",
    "\n",
    "print()\n",
    "print('The sentences {} to {}:'.format(*view_sentence_range))\n",
    "print('\\n'.join(text.split('\\n')[view_sentence_range[0]:view_sentence_range[1]]))"
   ]
  },
  {
   "cell_type": "markdown",
   "metadata": {},
   "source": [
    "## Implement Preprocessing Functions\n",
    "The first thing to do to any dataset is preprocessing.  Implement the following preprocessing functions below:\n",
    "- Lookup Table\n",
    "- Tokenize Punctuation\n",
    "\n",
    "### Lookup Table\n",
    "To create a word embedding, you first need to transform the words to ids.  In this function, create two dictionaries:\n",
    "- Dictionary to go from the words to an id, we'll call `vocab_to_int`\n",
    "- Dictionary to go from the id to word, we'll call `int_to_vocab`\n",
    "\n",
    "Return these dictionaries in the following tuple `(vocab_to_int, int_to_vocab)`"
   ]
  },
  {
   "cell_type": "code",
   "execution_count": 3,
   "metadata": {},
   "outputs": [
    {
     "name": "stdout",
     "output_type": "stream",
     "text": [
      "Tests Passed\n"
     ]
    }
   ],
   "source": [
    "import numpy as np\n",
    "import problem_unittests as tests\n",
    "\n",
    "def create_lookup_tables(text):\n",
    "    \"\"\"\n",
    "    Create lookup tables for vocabulary\n",
    "    :param text: The text of tv scripts split into words\n",
    "    :return: A tuple of dicts (vocab_to_int, int_to_vocab)\n",
    "    \"\"\"\n",
    "    vocab_to_int = {word: i for i, word in enumerate(set(text))}\n",
    "    int_to_vocab = {vocab_to_int[word]: word for word in vocab_to_int}\n",
    "    return vocab_to_int, int_to_vocab\n",
    "\n",
    "\n",
    "\"\"\"\n",
    "DON'T MODIFY ANYTHING IN THIS CELL THAT IS BELOW THIS LINE\n",
    "\"\"\"\n",
    "tests.test_create_lookup_tables(create_lookup_tables)"
   ]
  },
  {
   "cell_type": "markdown",
   "metadata": {},
   "source": [
    "### Tokenize Punctuation\n",
    "We'll be splitting the script into a word array using spaces as delimiters.  However, punctuations like periods and exclamation marks make it hard for the neural network to distinguish between the word \"bye\" and \"bye!\".\n",
    "\n",
    "Implement the function `token_lookup` to return a dict that will be used to tokenize symbols like \"!\" into \"||Exclamation_Mark||\".  Create a dictionary for the following symbols where the symbol is the key and value is the token:\n",
    "- Period ( . )\n",
    "- Comma ( , )\n",
    "- Quotation Mark ( \" )\n",
    "- Semicolon ( ; )\n",
    "- Exclamation mark ( ! )\n",
    "- Question mark ( ? )\n",
    "- Left Parentheses ( ( )\n",
    "- Right Parentheses ( ) )\n",
    "- Dash ( -- )\n",
    "- Return ( \\n )\n",
    "\n",
    "This dictionary will be used to token the symbols and add the delimiter (space) around it.  This separates the symbols as it's own word, making it easier for the neural network to predict on the next word. Make sure you don't use a token that could be confused as a word. Instead of using the token \"dash\", try using something like \"||dash||\"."
   ]
  },
  {
   "cell_type": "code",
   "execution_count": 4,
   "metadata": {},
   "outputs": [
    {
     "name": "stdout",
     "output_type": "stream",
     "text": [
      "Tests Passed\n"
     ]
    }
   ],
   "source": [
    "def token_lookup():\n",
    "    \"\"\"\n",
    "    Generate a dict to turn punctuation into a token.\n",
    "    :return: Tokenize dictionary where the key is the punctuation and the value is the token\n",
    "    \"\"\"\n",
    "    punctuation = ['.', ',', '\"', ';', '!', '?', '(', ')', '--', '\\n']\n",
    "    tokens = ['<period>', '<comma>', '<quotation>', '<semicolon>', \n",
    "              '<exclamation>', '<question>', '<leftparen>', \n",
    "              '<rightparen>', '<dash>', '<return>']\n",
    "    return {punc: token for punc, token in zip(punctuation, tokens)}\n",
    "\n",
    "\"\"\"\n",
    "DON'T MODIFY ANYTHING IN THIS CELL THAT IS BELOW THIS LINE\n",
    "\"\"\"\n",
    "tests.test_tokenize(token_lookup)"
   ]
  },
  {
   "cell_type": "markdown",
   "metadata": {},
   "source": [
    "## Preprocess all the data and save it\n",
    "Running the code cell below will preprocess all the data and save it to file."
   ]
  },
  {
   "cell_type": "code",
   "execution_count": 5,
   "metadata": {
    "collapsed": true
   },
   "outputs": [],
   "source": [
    "\"\"\"\n",
    "DON'T MODIFY ANYTHING IN THIS CELL\n",
    "\"\"\"\n",
    "# Preprocess Training, Validation, and Testing Data\n",
    "helper.preprocess_and_save_data(data_dir, token_lookup, create_lookup_tables)"
   ]
  },
  {
   "cell_type": "markdown",
   "metadata": {},
   "source": [
    "# Check Point\n",
    "This is your first checkpoint. If you ever decide to come back to this notebook or have to restart the notebook, you can start from here. The preprocessed data has been saved to disk."
   ]
  },
  {
   "cell_type": "code",
   "execution_count": 6,
   "metadata": {
    "collapsed": true
   },
   "outputs": [],
   "source": [
    "\"\"\"\n",
    "DON'T MODIFY ANYTHING IN THIS CELL\n",
    "\"\"\"\n",
    "import helper\n",
    "import numpy as np\n",
    "import problem_unittests as tests\n",
    "\n",
    "int_text, vocab_to_int, int_to_vocab, token_dict = helper.load_preprocess()"
   ]
  },
  {
   "cell_type": "code",
   "execution_count": 7,
   "metadata": {},
   "outputs": [
    {
     "data": {
      "text/plain": [
       "{'\\n': '<return>',\n",
       " '!': '<exclamation>',\n",
       " '\"': '<quotation>',\n",
       " '(': '<leftparen>',\n",
       " ')': '<rightparen>',\n",
       " ',': '<comma>',\n",
       " '--': '<dash>',\n",
       " '.': '<period>',\n",
       " ';': '<semicolon>',\n",
       " '?': '<question>'}"
      ]
     },
     "execution_count": 7,
     "metadata": {},
     "output_type": "execute_result"
    }
   ],
   "source": [
    "token_dict"
   ]
  },
  {
   "cell_type": "markdown",
   "metadata": {},
   "source": [
    "## Build the Neural Network\n",
    "You'll build the components necessary to build a RNN by implementing the following functions below:\n",
    "- get_inputs\n",
    "- get_init_cell\n",
    "- get_embed\n",
    "- build_rnn\n",
    "- build_nn\n",
    "- get_batches\n",
    "\n",
    "### Check the Version of TensorFlow and Access to GPU"
   ]
  },
  {
   "cell_type": "code",
   "execution_count": 8,
   "metadata": {},
   "outputs": [
    {
     "name": "stdout",
     "output_type": "stream",
     "text": [
      "TensorFlow Version: 1.0.1\n",
      "Default GPU Device: /gpu:0\n"
     ]
    }
   ],
   "source": [
    "\"\"\"\n",
    "DON'T MODIFY ANYTHING IN THIS CELL\n",
    "\"\"\"\n",
    "from distutils.version import LooseVersion\n",
    "import warnings\n",
    "import tensorflow as tf\n",
    "\n",
    "# Check TensorFlow Version\n",
    "assert LooseVersion(tf.__version__) >= LooseVersion('1.0'), 'Please use TensorFlow version 1.0 or newer'\n",
    "print('TensorFlow Version: {}'.format(tf.__version__))\n",
    "\n",
    "# Check for a GPU\n",
    "if not tf.test.gpu_device_name():\n",
    "    warnings.warn('No GPU found. Please use a GPU to train your neural network.')\n",
    "else:\n",
    "    print('Default GPU Device: {}'.format(tf.test.gpu_device_name()))"
   ]
  },
  {
   "cell_type": "markdown",
   "metadata": {},
   "source": [
    "### Input\n",
    "Implement the `get_inputs()` function to create TF Placeholders for the Neural Network.  It should create the following placeholders:\n",
    "- Input text placeholder named \"input\" using the [TF Placeholder](https://www.tensorflow.org/api_docs/python/tf/placeholder) `name` parameter.\n",
    "- Targets placeholder\n",
    "- Learning Rate placeholder\n",
    "\n",
    "Return the placeholders in the following tuple `(Input, Targets, LearningRate)`"
   ]
  },
  {
   "cell_type": "code",
   "execution_count": 9,
   "metadata": {},
   "outputs": [
    {
     "name": "stdout",
     "output_type": "stream",
     "text": [
      "Tests Passed\n"
     ]
    }
   ],
   "source": [
    "def get_inputs():\n",
    "    \"\"\"\n",
    "    Create TF Placeholders for input, targets, and learning rate.\n",
    "    :return: Tuple (input, targets, learning rate)\n",
    "    \"\"\"\n",
    "    Input = tf.placeholder(dtype=tf.int32, shape=[None, None], name='input')\n",
    "    Targets = tf.placeholder(dtype=tf.int32, shape=[None, None], name='targets')\n",
    "    LearningRate = tf.placeholder(dtype=tf.float32, name='learning_rate')\n",
    "    return Input, Targets, LearningRate\n",
    "\n",
    "\n",
    "\"\"\"\n",
    "DON'T MODIFY ANYTHING IN THIS CELL THAT IS BELOW THIS LINE\n",
    "\"\"\"\n",
    "tests.test_get_inputs(get_inputs)"
   ]
  },
  {
   "cell_type": "markdown",
   "metadata": {},
   "source": [
    "### Build RNN Cell and Initialize\n",
    "Stack one or more [`BasicLSTMCells`](https://www.tensorflow.org/api_docs/python/tf/contrib/rnn/BasicLSTMCell) in a [`MultiRNNCell`](https://www.tensorflow.org/api_docs/python/tf/contrib/rnn/MultiRNNCell).\n",
    "- The Rnn size should be set using `rnn_size`\n",
    "- Initalize Cell State using the MultiRNNCell's [`zero_state()`](https://www.tensorflow.org/api_docs/python/tf/contrib/rnn/MultiRNNCell#zero_state) function\n",
    "    - Apply the name \"initial_state\" to the initial state using [`tf.identity()`](https://www.tensorflow.org/api_docs/python/tf/identity)\n",
    "\n",
    "Return the cell and initial state in the following tuple `(Cell, InitialState)`"
   ]
  },
  {
   "cell_type": "code",
   "execution_count": 10,
   "metadata": {},
   "outputs": [
    {
     "name": "stdout",
     "output_type": "stream",
     "text": [
      "Tests Passed\n"
     ]
    }
   ],
   "source": [
    "def get_init_cell(batch_size, rnn_size):\n",
    "    \"\"\"\n",
    "    Create an RNN Cell and initialize it.\n",
    "    :param batch_size: Size of batches\n",
    "    :param rnn_size: Size of RNNs\n",
    "    :return: Tuple (cell, initialize state)\n",
    "    \"\"\"\n",
    "    lstm_layers = 2\n",
    "    lstm = tf.contrib.rnn.BasicLSTMCell(rnn_size)\n",
    "    # drop = tf.contrib.rnn.DropoutWrapper(lstm, output_keep_prob=keep_prob)\n",
    "    Cell = tf.contrib.rnn.MultiRNNCell(lstm_layers * [lstm])\n",
    "    InitialState = Cell.zero_state(batch_size, tf.float32)\n",
    "    InitialState = tf.identity(InitialState, name='initial_state')\n",
    "    return Cell, InitialState\n",
    "\n",
    "\n",
    "\"\"\"\n",
    "DON'T MODIFY ANYTHING IN THIS CELL THAT IS BELOW THIS LINE\n",
    "\"\"\"\n",
    "tests.test_get_init_cell(get_init_cell)"
   ]
  },
  {
   "cell_type": "markdown",
   "metadata": {},
   "source": [
    "### Word Embedding\n",
    "Apply embedding to `input_data` using TensorFlow.  Return the embedded sequence."
   ]
  },
  {
   "cell_type": "code",
   "execution_count": 11,
   "metadata": {},
   "outputs": [
    {
     "name": "stdout",
     "output_type": "stream",
     "text": [
      "Tests Passed\n"
     ]
    }
   ],
   "source": [
    "def get_embed(input_data, vocab_size, embed_dim):\n",
    "    \"\"\"\n",
    "    Create embedding for <input_data>.\n",
    "    :param input_data: TF placeholder for text input.\n",
    "    :param vocab_size: Number of words in vocabulary.\n",
    "    :param embed_dim: Number of embedding dimensions\n",
    "    :return: Embedded input.\n",
    "    \"\"\"\n",
    "#     embedding = tf.Variable(tf.random_uniform((vocab_size,embed_dim),-1,1), name='embedding')\n",
    "    embedding = tf.Variable(tf.truncated_normal((vocab_size,embed_dim), stddev=0.1), name='embedding')\n",
    "    embed = tf.nn.embedding_lookup(embedding, input_data, name='embed')\n",
    "    return embed\n",
    "\n",
    "\n",
    "\"\"\"\n",
    "DON'T MODIFY ANYTHING IN THIS CELL THAT IS BELOW THIS LINE\n",
    "\"\"\"\n",
    "tests.test_get_embed(get_embed)"
   ]
  },
  {
   "cell_type": "markdown",
   "metadata": {},
   "source": [
    "### Build RNN\n",
    "You created a RNN Cell in the `get_init_cell()` function.  Time to use the cell to create a RNN.\n",
    "- Build the RNN using the [`tf.nn.dynamic_rnn()`](https://www.tensorflow.org/api_docs/python/tf/nn/dynamic_rnn)\n",
    " - Apply the name \"final_state\" to the final state using [`tf.identity()`](https://www.tensorflow.org/api_docs/python/tf/identity)\n",
    "\n",
    "Return the outputs and final_state state in the following tuple `(Outputs, FinalState)` "
   ]
  },
  {
   "cell_type": "code",
   "execution_count": 12,
   "metadata": {},
   "outputs": [
    {
     "name": "stdout",
     "output_type": "stream",
     "text": [
      "Tests Passed\n"
     ]
    }
   ],
   "source": [
    "def build_rnn(cell, inputs):\n",
    "    \"\"\"\n",
    "    Create a RNN using a RNN Cell\n",
    "    :param cell: RNN Cell\n",
    "    :param inputs: Input text data\n",
    "    :return: Tuple (Outputs, Final State)\n",
    "    \"\"\"\n",
    "    Output, FinalState = tf.nn.dynamic_rnn(cell, inputs, dtype=tf.float32)\n",
    "    FinalState = tf.identity(FinalState, name='final_state')\n",
    "    return Output, FinalState\n",
    "\n",
    "\n",
    "\"\"\"\n",
    "DON'T MODIFY ANYTHING IN THIS CELL THAT IS BELOW THIS LINE\n",
    "\"\"\"\n",
    "tests.test_build_rnn(build_rnn)"
   ]
  },
  {
   "cell_type": "markdown",
   "metadata": {},
   "source": [
    "### Build the Neural Network\n",
    "Apply the functions you implemented above to:\n",
    "- Apply embedding to `input_data` using your `get_embed(input_data, vocab_size, embed_dim)` function.\n",
    "- Build RNN using `cell` and your `build_rnn(cell, inputs)` function.\n",
    "- Apply a fully connected layer with a linear activation and `vocab_size` as the number of outputs.\n",
    "\n",
    "Return the logits and final state in the following tuple (Logits, FinalState) "
   ]
  },
  {
   "cell_type": "code",
   "execution_count": 13,
   "metadata": {},
   "outputs": [
    {
     "name": "stdout",
     "output_type": "stream",
     "text": [
      "Tests Passed\n"
     ]
    }
   ],
   "source": [
    "def build_nn(cell, rnn_size, input_data, vocab_size, embed_dim):\n",
    "    \"\"\"\n",
    "    Build part of the neural network\n",
    "    :param cell: RNN cell\n",
    "    :param rnn_size: Size of rnns\n",
    "    :param input_data: Input data\n",
    "    :param vocab_size: Vocabulary size\n",
    "    :param embed_dim: Number of embedding dimensions\n",
    "    :return: Tuple (Logits, FinalState)\n",
    "    \"\"\"\n",
    "    Embed = get_embed(input_data, vocab_size, embed_dim)\n",
    "    LstmOut, FinalState = build_rnn(cell, Embed)\n",
    "    Logits = tf.contrib.layers.fully_connected(LstmOut, vocab_size, activation_fn=None)\n",
    "    return Logits, FinalState\n",
    "\n",
    "\n",
    "\"\"\"\n",
    "DON'T MODIFY ANYTHING IN THIS CELL THAT IS BELOW THIS LINE\n",
    "\"\"\"\n",
    "tests.test_build_nn(build_nn)"
   ]
  },
  {
   "cell_type": "markdown",
   "metadata": {},
   "source": [
    "### Batches\n",
    "Implement `get_batches` to create batches of input and targets using `int_text`.  The batches should be a Numpy array with the shape `(number of batches, 2, batch size, sequence length)`. Each batch contains two elements:\n",
    "- The first element is a single batch of **input** with the shape `[batch size, sequence length]`\n",
    "- The second element is a single batch of **targets** with the shape `[batch size, sequence length]`\n",
    "\n",
    "If you can't fill the last batch with enough data, drop the last batch.\n",
    "\n",
    "For exmple, `get_batches([1, 2, 3, 4, 5, 6, 7, 8, 9, 10, 11, 12, 13, 14, 15, 16, 17, 18, 19, 20], 3, 2)` would return a Numpy array of the following:\n",
    "```\n",
    "[\n",
    "  # First Batch\n",
    "  [\n",
    "    # Batch of Input\n",
    "    [[ 1  2], [ 7  8], [13 14]]\n",
    "    # Batch of targets\n",
    "    [[ 2  3], [ 8  9], [14 15]]\n",
    "  ]\n",
    "\n",
    "  # Second Batch\n",
    "  [\n",
    "    # Batch of Input\n",
    "    [[ 3  4], [ 9 10], [15 16]]\n",
    "    # Batch of targets\n",
    "    [[ 4  5], [10 11], [16 17]]\n",
    "  ]\n",
    "\n",
    "  # Third Batch\n",
    "  [\n",
    "    # Batch of Input\n",
    "    [[ 5  6], [11 12], [17 18]]\n",
    "    # Batch of targets\n",
    "    [[ 6  7], [12 13], [18  1]]\n",
    "  ]\n",
    "]\n",
    "```\n",
    "\n",
    "Notice that the last target value in the last batch is the first input value of the first batch. In this case, `1`. This is a common technique used when creating sequence batches, although it is rather unintuitive."
   ]
  },
  {
   "cell_type": "code",
   "execution_count": 14,
   "metadata": {},
   "outputs": [
    {
     "name": "stdout",
     "output_type": "stream",
     "text": [
      "Tests Passed\n"
     ]
    }
   ],
   "source": [
    "def get_batches(int_text, batch_size, seq_length):\n",
    "    \"\"\"\n",
    "    Return batches of input and target\n",
    "    :param int_text: Text with the words replaced by their ids\n",
    "    :param batch_size: The size of batch\n",
    "    :param seq_length: The length of sequence\n",
    "    :return: Batches as a Numpy array\n",
    "    \"\"\"\n",
    "    # compute the number of batches that can be made from `int_text`\n",
    "    n_batches = len(int_text)//(batch_size * seq_length)\n",
    "    # crop `int_text` to have a length yielding only full batches\n",
    "    int_text = int_text[:n_batches * batch_size * seq_length] # only full batches\n",
    "    # np.array to load with input/target data\n",
    "    Batches =  np.zeros((n_batches, 2, batch_size, seq_length), dtype=np.int)\n",
    "    \n",
    "    for n in range(0, len(int_text), seq_length):\n",
    "        # indices for which batch and what position in the sequence the \n",
    "        # value `int_text[n:n+seq_length]` should be associated with\n",
    "        batch, position = (n//seq_length)%n_batches, (n//seq_length)//n_batches\n",
    "        # load input values for batch `batch` and position `position`\n",
    "        Batches[batch, 0, position, :] = int_text[n:n+seq_length]\n",
    "        # load target values for batch `batch` and position `position`\n",
    "        Batches[batch, 1, position, :] = int_text[n+1:n+seq_length+1] if n+seq_length+1 < len(int_text) else int_text[n+1:] + [int_text[0]]\n",
    "    return Batches\n",
    "\n",
    "\n",
    "\"\"\"\n",
    "DON'T MODIFY ANYTHING IN THIS CELL THAT IS BELOW THIS LINE\n",
    "\"\"\"\n",
    "tests.test_get_batches(get_batches)"
   ]
  },
  {
   "cell_type": "markdown",
   "metadata": {},
   "source": [
    "## Neural Network Training\n",
    "### Hyperparameters\n",
    "Tune the following parameters:\n",
    "\n",
    "- Set `num_epochs` to the number of epochs.\n",
    "- Set `batch_size` to the batch size.\n",
    "- Set `rnn_size` to the size of the RNNs.\n",
    "- Set `embed_dim` to the size of the embedding.\n",
    "- Set `seq_length` to the length of sequence.\n",
    "- Set `learning_rate` to the learning rate.\n",
    "- Set `show_every_n_batches` to the number of batches the neural network should print progress."
   ]
  },
  {
   "cell_type": "code",
   "execution_count": 15,
   "metadata": {
    "collapsed": true
   },
   "outputs": [],
   "source": [
    "# Number of Epochs\n",
    "num_epochs = 200\n",
    "# Batch Size\n",
    "batch_size = 64\n",
    "# RNN Size\n",
    "rnn_size = 512\n",
    "# Embedding Dimension Size\n",
    "embed_dim = 300\n",
    "# Sequence Length\n",
    "seq_length = 10\n",
    "# Learning Rate\n",
    "learning_rate = 0.01\n",
    "# Show stats for every n number of batches\n",
    "show_every_n_batches = 50\n",
    "\n",
    "\"\"\"\n",
    "DON'T MODIFY ANYTHING IN THIS CELL THAT IS BELOW THIS LINE\n",
    "\"\"\"\n",
    "save_dir = './save'"
   ]
  },
  {
   "cell_type": "markdown",
   "metadata": {},
   "source": [
    "### Build the Graph\n",
    "Build the graph using the neural network you implemented."
   ]
  },
  {
   "cell_type": "code",
   "execution_count": 16,
   "metadata": {
    "collapsed": true
   },
   "outputs": [],
   "source": [
    "\"\"\"\n",
    "DON'T MODIFY ANYTHING IN THIS CELL\n",
    "\"\"\"\n",
    "from tensorflow.contrib import seq2seq\n",
    "\n",
    "train_graph = tf.Graph()\n",
    "with train_graph.as_default():\n",
    "    vocab_size = len(int_to_vocab)\n",
    "    input_text, targets, lr = get_inputs()\n",
    "    input_data_shape = tf.shape(input_text)\n",
    "    cell, initial_state = get_init_cell(input_data_shape[0], rnn_size)\n",
    "    logits, final_state = build_nn(cell, rnn_size, input_text, vocab_size, embed_dim)\n",
    "\n",
    "    # Probabilities for generating words\n",
    "    probs = tf.nn.softmax(logits, name='probs')\n",
    "\n",
    "    # Loss function\n",
    "    cost = seq2seq.sequence_loss(\n",
    "        logits,\n",
    "        targets,\n",
    "        tf.ones([input_data_shape[0], input_data_shape[1]]))\n",
    "\n",
    "    # Optimizer\n",
    "    optimizer = tf.train.AdamOptimizer(lr)\n",
    "\n",
    "    # Gradient Clipping\n",
    "    gradients = optimizer.compute_gradients(cost)\n",
    "    capped_gradients = [(tf.clip_by_value(grad, -1., 1.), var) for grad, var in gradients if grad is not None]\n",
    "    train_op = optimizer.apply_gradients(capped_gradients)"
   ]
  },
  {
   "cell_type": "markdown",
   "metadata": {},
   "source": [
    "## Train\n",
    "Train the neural network on the preprocessed data.  If you have a hard time getting a good loss, check the [forums](https://discussions.udacity.com/) to see if anyone is having the same problem."
   ]
  },
  {
   "cell_type": "code",
   "execution_count": 17,
   "metadata": {
    "scrolled": true
   },
   "outputs": [
    {
     "name": "stdout",
     "output_type": "stream",
     "text": [
      "Epoch   0 Batch    0/107   train_loss = 8.822\n",
      "Epoch   0 Batch   50/107   train_loss = 5.758\n",
      "Epoch   0 Batch  100/107   train_loss = 5.477\n",
      "Epoch   1 Batch   43/107   train_loss = 4.899\n",
      "Epoch   1 Batch   93/107   train_loss = 5.167\n",
      "Epoch   2 Batch   36/107   train_loss = 5.163\n",
      "Epoch   2 Batch   86/107   train_loss = 4.846\n",
      "Epoch   3 Batch   29/107   train_loss = 4.980\n",
      "Epoch   3 Batch   79/107   train_loss = 4.714\n",
      "Epoch   4 Batch   22/107   train_loss = 4.454\n",
      "Epoch   4 Batch   72/107   train_loss = 4.707\n",
      "Epoch   5 Batch   15/107   train_loss = 4.308\n",
      "Epoch   5 Batch   65/107   train_loss = 4.355\n",
      "Epoch   6 Batch    8/107   train_loss = 4.396\n",
      "Epoch   6 Batch   58/107   train_loss = 4.226\n",
      "Epoch   7 Batch    1/107   train_loss = 4.164\n",
      "Epoch   7 Batch   51/107   train_loss = 4.301\n",
      "Epoch   7 Batch  101/107   train_loss = 4.015\n",
      "Epoch   8 Batch   44/107   train_loss = 4.330\n",
      "Epoch   8 Batch   94/107   train_loss = 3.948\n",
      "Epoch   9 Batch   37/107   train_loss = 3.976\n",
      "Epoch   9 Batch   87/107   train_loss = 3.994\n",
      "Epoch  10 Batch   30/107   train_loss = 3.850\n",
      "Epoch  10 Batch   80/107   train_loss = 3.795\n",
      "Epoch  11 Batch   23/107   train_loss = 3.698\n",
      "Epoch  11 Batch   73/107   train_loss = 3.720\n",
      "Epoch  12 Batch   16/107   train_loss = 3.539\n",
      "Epoch  12 Batch   66/107   train_loss = 3.673\n",
      "Epoch  13 Batch    9/107   train_loss = 3.416\n",
      "Epoch  13 Batch   59/107   train_loss = 3.729\n",
      "Epoch  14 Batch    2/107   train_loss = 3.430\n",
      "Epoch  14 Batch   52/107   train_loss = 3.485\n",
      "Epoch  14 Batch  102/107   train_loss = 3.536\n",
      "Epoch  15 Batch   45/107   train_loss = 3.347\n",
      "Epoch  15 Batch   95/107   train_loss = 3.292\n",
      "Epoch  16 Batch   38/107   train_loss = 3.146\n",
      "Epoch  16 Batch   88/107   train_loss = 3.299\n",
      "Epoch  17 Batch   31/107   train_loss = 3.200\n",
      "Epoch  17 Batch   81/107   train_loss = 3.090\n",
      "Epoch  18 Batch   24/107   train_loss = 3.258\n",
      "Epoch  18 Batch   74/107   train_loss = 3.192\n",
      "Epoch  19 Batch   17/107   train_loss = 3.013\n",
      "Epoch  19 Batch   67/107   train_loss = 2.917\n",
      "Epoch  20 Batch   10/107   train_loss = 2.918\n",
      "Epoch  20 Batch   60/107   train_loss = 2.818\n",
      "Epoch  21 Batch    3/107   train_loss = 2.867\n",
      "Epoch  21 Batch   53/107   train_loss = 2.810\n",
      "Epoch  21 Batch  103/107   train_loss = 2.856\n",
      "Epoch  22 Batch   46/107   train_loss = 2.797\n",
      "Epoch  22 Batch   96/107   train_loss = 2.811\n",
      "Epoch  23 Batch   39/107   train_loss = 2.678\n",
      "Epoch  23 Batch   89/107   train_loss = 2.802\n",
      "Epoch  24 Batch   32/107   train_loss = 2.522\n",
      "Epoch  24 Batch   82/107   train_loss = 2.473\n",
      "Epoch  25 Batch   25/107   train_loss = 2.422\n",
      "Epoch  25 Batch   75/107   train_loss = 2.534\n",
      "Epoch  26 Batch   18/107   train_loss = 2.347\n",
      "Epoch  26 Batch   68/107   train_loss = 2.391\n",
      "Epoch  27 Batch   11/107   train_loss = 2.357\n",
      "Epoch  27 Batch   61/107   train_loss = 2.289\n",
      "Epoch  28 Batch    4/107   train_loss = 2.242\n",
      "Epoch  28 Batch   54/107   train_loss = 2.278\n",
      "Epoch  28 Batch  104/107   train_loss = 2.032\n",
      "Epoch  29 Batch   47/107   train_loss = 2.089\n",
      "Epoch  29 Batch   97/107   train_loss = 2.160\n",
      "Epoch  30 Batch   40/107   train_loss = 2.139\n",
      "Epoch  30 Batch   90/107   train_loss = 1.866\n",
      "Epoch  31 Batch   33/107   train_loss = 1.887\n",
      "Epoch  31 Batch   83/107   train_loss = 1.886\n",
      "Epoch  32 Batch   26/107   train_loss = 1.862\n",
      "Epoch  32 Batch   76/107   train_loss = 1.855\n",
      "Epoch  33 Batch   19/107   train_loss = 1.764\n",
      "Epoch  33 Batch   69/107   train_loss = 1.832\n",
      "Epoch  34 Batch   12/107   train_loss = 1.684\n",
      "Epoch  34 Batch   62/107   train_loss = 1.812\n",
      "Epoch  35 Batch    5/107   train_loss = 1.750\n",
      "Epoch  35 Batch   55/107   train_loss = 1.646\n",
      "Epoch  35 Batch  105/107   train_loss = 1.637\n",
      "Epoch  36 Batch   48/107   train_loss = 1.614\n",
      "Epoch  36 Batch   98/107   train_loss = 1.394\n",
      "Epoch  37 Batch   41/107   train_loss = 1.713\n",
      "Epoch  37 Batch   91/107   train_loss = 1.405\n",
      "Epoch  38 Batch   34/107   train_loss = 1.555\n",
      "Epoch  38 Batch   84/107   train_loss = 1.482\n",
      "Epoch  39 Batch   27/107   train_loss = 1.583\n",
      "Epoch  39 Batch   77/107   train_loss = 1.521\n",
      "Epoch  40 Batch   20/107   train_loss = 1.454\n",
      "Epoch  40 Batch   70/107   train_loss = 1.425\n",
      "Epoch  41 Batch   13/107   train_loss = 1.465\n",
      "Epoch  41 Batch   63/107   train_loss = 1.351\n",
      "Epoch  42 Batch    6/107   train_loss = 1.420\n",
      "Epoch  42 Batch   56/107   train_loss = 1.314\n",
      "Epoch  42 Batch  106/107   train_loss = 1.297\n",
      "Epoch  43 Batch   49/107   train_loss = 1.363\n",
      "Epoch  43 Batch   99/107   train_loss = 1.188\n",
      "Epoch  44 Batch   42/107   train_loss = 1.317\n",
      "Epoch  44 Batch   92/107   train_loss = 1.231\n",
      "Epoch  45 Batch   35/107   train_loss = 1.365\n",
      "Epoch  45 Batch   85/107   train_loss = 1.271\n",
      "Epoch  46 Batch   28/107   train_loss = 1.194\n",
      "Epoch  46 Batch   78/107   train_loss = 1.287\n",
      "Epoch  47 Batch   21/107   train_loss = 1.262\n",
      "Epoch  47 Batch   71/107   train_loss = 1.111\n",
      "Epoch  48 Batch   14/107   train_loss = 1.200\n",
      "Epoch  48 Batch   64/107   train_loss = 1.157\n",
      "Epoch  49 Batch    7/107   train_loss = 1.200\n",
      "Epoch  49 Batch   57/107   train_loss = 1.198\n",
      "Epoch  50 Batch    0/107   train_loss = 1.060\n",
      "Epoch  50 Batch   50/107   train_loss = 1.114\n",
      "Epoch  50 Batch  100/107   train_loss = 1.116\n",
      "Epoch  51 Batch   43/107   train_loss = 1.115\n",
      "Epoch  51 Batch   93/107   train_loss = 1.063\n",
      "Epoch  52 Batch   36/107   train_loss = 1.038\n",
      "Epoch  52 Batch   86/107   train_loss = 1.036\n",
      "Epoch  53 Batch   29/107   train_loss = 1.156\n",
      "Epoch  53 Batch   79/107   train_loss = 1.115\n",
      "Epoch  54 Batch   22/107   train_loss = 1.004\n",
      "Epoch  54 Batch   72/107   train_loss = 1.021\n",
      "Epoch  55 Batch   15/107   train_loss = 1.084\n",
      "Epoch  55 Batch   65/107   train_loss = 0.973\n",
      "Epoch  56 Batch    8/107   train_loss = 1.049\n",
      "Epoch  56 Batch   58/107   train_loss = 0.982\n",
      "Epoch  57 Batch    1/107   train_loss = 0.966\n",
      "Epoch  57 Batch   51/107   train_loss = 0.976\n",
      "Epoch  57 Batch  101/107   train_loss = 0.965\n",
      "Epoch  58 Batch   44/107   train_loss = 1.000\n",
      "Epoch  58 Batch   94/107   train_loss = 0.913\n",
      "Epoch  59 Batch   37/107   train_loss = 0.848\n",
      "Epoch  59 Batch   87/107   train_loss = 0.965\n",
      "Epoch  60 Batch   30/107   train_loss = 1.021\n",
      "Epoch  60 Batch   80/107   train_loss = 0.957\n",
      "Epoch  61 Batch   23/107   train_loss = 0.884\n",
      "Epoch  61 Batch   73/107   train_loss = 0.927\n",
      "Epoch  62 Batch   16/107   train_loss = 0.876\n",
      "Epoch  62 Batch   66/107   train_loss = 0.835\n",
      "Epoch  63 Batch    9/107   train_loss = 0.761\n",
      "Epoch  63 Batch   59/107   train_loss = 0.931\n",
      "Epoch  64 Batch    2/107   train_loss = 0.904\n",
      "Epoch  64 Batch   52/107   train_loss = 0.764\n",
      "Epoch  64 Batch  102/107   train_loss = 0.884\n",
      "Epoch  65 Batch   45/107   train_loss = 0.756\n",
      "Epoch  65 Batch   95/107   train_loss = 0.844\n",
      "Epoch  66 Batch   38/107   train_loss = 0.767\n",
      "Epoch  66 Batch   88/107   train_loss = 0.871\n",
      "Epoch  67 Batch   31/107   train_loss = 0.821\n",
      "Epoch  67 Batch   81/107   train_loss = 0.801\n",
      "Epoch  68 Batch   24/107   train_loss = 0.850\n",
      "Epoch  68 Batch   74/107   train_loss = 0.739\n",
      "Epoch  69 Batch   17/107   train_loss = 0.717\n",
      "Epoch  69 Batch   67/107   train_loss = 0.778\n",
      "Epoch  70 Batch   10/107   train_loss = 0.816\n",
      "Epoch  70 Batch   60/107   train_loss = 0.805\n",
      "Epoch  71 Batch    3/107   train_loss = 0.786\n",
      "Epoch  71 Batch   53/107   train_loss = 0.726\n",
      "Epoch  71 Batch  103/107   train_loss = 0.859\n",
      "Epoch  72 Batch   46/107   train_loss = 0.736\n",
      "Epoch  72 Batch   96/107   train_loss = 0.851\n",
      "Epoch  73 Batch   39/107   train_loss = 0.818\n",
      "Epoch  73 Batch   89/107   train_loss = 0.868\n",
      "Epoch  74 Batch   32/107   train_loss = 0.769\n",
      "Epoch  74 Batch   82/107   train_loss = 0.830\n",
      "Epoch  75 Batch   25/107   train_loss = 0.723\n",
      "Epoch  75 Batch   75/107   train_loss = 0.802\n",
      "Epoch  76 Batch   18/107   train_loss = 0.764\n",
      "Epoch  76 Batch   68/107   train_loss = 0.822\n",
      "Epoch  77 Batch   11/107   train_loss = 0.815\n",
      "Epoch  77 Batch   61/107   train_loss = 0.712\n",
      "Epoch  78 Batch    4/107   train_loss = 0.835\n",
      "Epoch  78 Batch   54/107   train_loss = 0.749\n",
      "Epoch  78 Batch  104/107   train_loss = 0.888\n",
      "Epoch  79 Batch   47/107   train_loss = 0.822\n",
      "Epoch  79 Batch   97/107   train_loss = 0.838\n",
      "Epoch  80 Batch   40/107   train_loss = 0.992\n",
      "Epoch  80 Batch   90/107   train_loss = 0.827\n",
      "Epoch  81 Batch   33/107   train_loss = 0.802\n",
      "Epoch  81 Batch   83/107   train_loss = 0.840\n",
      "Epoch  82 Batch   26/107   train_loss = 0.820\n",
      "Epoch  82 Batch   76/107   train_loss = 0.896\n",
      "Epoch  83 Batch   19/107   train_loss = 0.951\n"
     ]
    },
    {
     "name": "stdout",
     "output_type": "stream",
     "text": [
      "Epoch  83 Batch   69/107   train_loss = 0.894\n",
      "Epoch  84 Batch   12/107   train_loss = 0.875\n",
      "Epoch  84 Batch   62/107   train_loss = 0.836\n",
      "Epoch  85 Batch    5/107   train_loss = 0.830\n",
      "Epoch  85 Batch   55/107   train_loss = 0.873\n",
      "Epoch  85 Batch  105/107   train_loss = 0.812\n",
      "Epoch  86 Batch   48/107   train_loss = 0.861\n",
      "Epoch  86 Batch   98/107   train_loss = 0.674\n",
      "Epoch  87 Batch   41/107   train_loss = 0.834\n",
      "Epoch  87 Batch   91/107   train_loss = 0.744\n",
      "Epoch  88 Batch   34/107   train_loss = 0.802\n",
      "Epoch  88 Batch   84/107   train_loss = 0.682\n",
      "Epoch  89 Batch   27/107   train_loss = 0.724\n",
      "Epoch  89 Batch   77/107   train_loss = 0.786\n",
      "Epoch  90 Batch   20/107   train_loss = 0.702\n",
      "Epoch  90 Batch   70/107   train_loss = 0.676\n",
      "Epoch  91 Batch   13/107   train_loss = 0.733\n",
      "Epoch  91 Batch   63/107   train_loss = 0.725\n",
      "Epoch  92 Batch    6/107   train_loss = 0.673\n",
      "Epoch  92 Batch   56/107   train_loss = 0.630\n",
      "Epoch  92 Batch  106/107   train_loss = 0.738\n",
      "Epoch  93 Batch   49/107   train_loss = 0.663\n",
      "Epoch  93 Batch   99/107   train_loss = 0.689\n",
      "Epoch  94 Batch   42/107   train_loss = 0.701\n",
      "Epoch  94 Batch   92/107   train_loss = 0.684\n",
      "Epoch  95 Batch   35/107   train_loss = 0.694\n",
      "Epoch  95 Batch   85/107   train_loss = 0.655\n",
      "Epoch  96 Batch   28/107   train_loss = 0.605\n",
      "Epoch  96 Batch   78/107   train_loss = 0.666\n",
      "Epoch  97 Batch   21/107   train_loss = 0.676\n",
      "Epoch  97 Batch   71/107   train_loss = 0.603\n",
      "Epoch  98 Batch   14/107   train_loss = 0.628\n",
      "Epoch  98 Batch   64/107   train_loss = 0.648\n",
      "Epoch  99 Batch    7/107   train_loss = 0.705\n",
      "Epoch  99 Batch   57/107   train_loss = 0.673\n",
      "Epoch 100 Batch    0/107   train_loss = 0.645\n",
      "Epoch 100 Batch   50/107   train_loss = 0.678\n",
      "Epoch 100 Batch  100/107   train_loss = 0.684\n",
      "Epoch 101 Batch   43/107   train_loss = 0.756\n",
      "Epoch 101 Batch   93/107   train_loss = 0.667\n",
      "Epoch 102 Batch   36/107   train_loss = 0.700\n",
      "Epoch 102 Batch   86/107   train_loss = 0.776\n",
      "Epoch 103 Batch   29/107   train_loss = 0.773\n",
      "Epoch 103 Batch   79/107   train_loss = 0.788\n",
      "Epoch 104 Batch   22/107   train_loss = 0.723\n",
      "Epoch 104 Batch   72/107   train_loss = 0.816\n",
      "Epoch 105 Batch   15/107   train_loss = 0.745\n",
      "Epoch 105 Batch   65/107   train_loss = 0.762\n",
      "Epoch 106 Batch    8/107   train_loss = 0.812\n",
      "Epoch 106 Batch   58/107   train_loss = 0.775\n",
      "Epoch 107 Batch    1/107   train_loss = 0.803\n",
      "Epoch 107 Batch   51/107   train_loss = 0.805\n",
      "Epoch 107 Batch  101/107   train_loss = 0.821\n",
      "Epoch 108 Batch   44/107   train_loss = 0.922\n",
      "Epoch 108 Batch   94/107   train_loss = 0.773\n",
      "Epoch 109 Batch   37/107   train_loss = 0.867\n",
      "Epoch 109 Batch   87/107   train_loss = 0.948\n",
      "Epoch 110 Batch   30/107   train_loss = 0.908\n",
      "Epoch 110 Batch   80/107   train_loss = 0.859\n",
      "Epoch 111 Batch   23/107   train_loss = 0.801\n",
      "Epoch 111 Batch   73/107   train_loss = 0.843\n",
      "Epoch 112 Batch   16/107   train_loss = 0.903\n",
      "Epoch 112 Batch   66/107   train_loss = 0.739\n",
      "Epoch 113 Batch    9/107   train_loss = 0.769\n",
      "Epoch 113 Batch   59/107   train_loss = 0.838\n",
      "Epoch 114 Batch    2/107   train_loss = 0.855\n",
      "Epoch 114 Batch   52/107   train_loss = 0.740\n",
      "Epoch 114 Batch  102/107   train_loss = 0.847\n",
      "Epoch 115 Batch   45/107   train_loss = 0.713\n",
      "Epoch 115 Batch   95/107   train_loss = 0.820\n",
      "Epoch 116 Batch   38/107   train_loss = 0.720\n",
      "Epoch 116 Batch   88/107   train_loss = 0.687\n",
      "Epoch 117 Batch   31/107   train_loss = 0.732\n",
      "Epoch 117 Batch   81/107   train_loss = 0.731\n",
      "Epoch 118 Batch   24/107   train_loss = 0.758\n",
      "Epoch 118 Batch   74/107   train_loss = 0.665\n",
      "Epoch 119 Batch   17/107   train_loss = 0.684\n",
      "Epoch 119 Batch   67/107   train_loss = 0.644\n",
      "Epoch 120 Batch   10/107   train_loss = 0.659\n",
      "Epoch 120 Batch   60/107   train_loss = 0.592\n",
      "Epoch 121 Batch    3/107   train_loss = 0.631\n",
      "Epoch 121 Batch   53/107   train_loss = 0.553\n",
      "Epoch 121 Batch  103/107   train_loss = 0.621\n",
      "Epoch 122 Batch   46/107   train_loss = 0.621\n",
      "Epoch 122 Batch   96/107   train_loss = 0.701\n",
      "Epoch 123 Batch   39/107   train_loss = 0.609\n",
      "Epoch 123 Batch   89/107   train_loss = 0.577\n",
      "Epoch 124 Batch   32/107   train_loss = 0.600\n",
      "Epoch 124 Batch   82/107   train_loss = 0.595\n",
      "Epoch 125 Batch   25/107   train_loss = 0.538\n",
      "Epoch 125 Batch   75/107   train_loss = 0.534\n",
      "Epoch 126 Batch   18/107   train_loss = 0.556\n",
      "Epoch 126 Batch   68/107   train_loss = 0.635\n",
      "Epoch 127 Batch   11/107   train_loss = 0.581\n",
      "Epoch 127 Batch   61/107   train_loss = 0.580\n",
      "Epoch 128 Batch    4/107   train_loss = 0.602\n",
      "Epoch 128 Batch   54/107   train_loss = 0.594\n",
      "Epoch 128 Batch  104/107   train_loss = 0.613\n",
      "Epoch 129 Batch   47/107   train_loss = 0.650\n",
      "Epoch 129 Batch   97/107   train_loss = 0.700\n",
      "Epoch 130 Batch   40/107   train_loss = 0.759\n",
      "Epoch 130 Batch   90/107   train_loss = 0.686\n",
      "Epoch 131 Batch   33/107   train_loss = 0.723\n",
      "Epoch 131 Batch   83/107   train_loss = 0.787\n",
      "Epoch 132 Batch   26/107   train_loss = 0.775\n",
      "Epoch 132 Batch   76/107   train_loss = 0.948\n",
      "Epoch 133 Batch   19/107   train_loss = 0.930\n",
      "Epoch 133 Batch   69/107   train_loss = 0.952\n",
      "Epoch 134 Batch   12/107   train_loss = 0.886\n",
      "Epoch 134 Batch   62/107   train_loss = 0.989\n",
      "Epoch 135 Batch    5/107   train_loss = 1.021\n",
      "Epoch 135 Batch   55/107   train_loss = 0.964\n",
      "Epoch 135 Batch  105/107   train_loss = 1.025\n",
      "Epoch 136 Batch   48/107   train_loss = 0.928\n",
      "Epoch 136 Batch   98/107   train_loss = 0.922\n",
      "Epoch 137 Batch   41/107   train_loss = 1.037\n",
      "Epoch 137 Batch   91/107   train_loss = 0.939\n",
      "Epoch 138 Batch   34/107   train_loss = 0.892\n",
      "Epoch 138 Batch   84/107   train_loss = 0.865\n",
      "Epoch 139 Batch   27/107   train_loss = 0.891\n",
      "Epoch 139 Batch   77/107   train_loss = 0.935\n",
      "Epoch 140 Batch   20/107   train_loss = 0.837\n",
      "Epoch 140 Batch   70/107   train_loss = 0.767\n",
      "Epoch 141 Batch   13/107   train_loss = 0.840\n",
      "Epoch 141 Batch   63/107   train_loss = 0.890\n",
      "Epoch 142 Batch    6/107   train_loss = 0.802\n",
      "Epoch 142 Batch   56/107   train_loss = 0.704\n",
      "Epoch 142 Batch  106/107   train_loss = 0.719\n",
      "Epoch 143 Batch   49/107   train_loss = 0.753\n",
      "Epoch 143 Batch   99/107   train_loss = 0.619\n",
      "Epoch 144 Batch   42/107   train_loss = 0.656\n",
      "Epoch 144 Batch   92/107   train_loss = 0.677\n",
      "Epoch 145 Batch   35/107   train_loss = 0.711\n",
      "Epoch 145 Batch   85/107   train_loss = 0.599\n",
      "Epoch 146 Batch   28/107   train_loss = 0.617\n",
      "Epoch 146 Batch   78/107   train_loss = 0.661\n",
      "Epoch 147 Batch   21/107   train_loss = 0.574\n",
      "Epoch 147 Batch   71/107   train_loss = 0.553\n",
      "Epoch 148 Batch   14/107   train_loss = 0.593\n",
      "Epoch 148 Batch   64/107   train_loss = 0.577\n",
      "Epoch 149 Batch    7/107   train_loss = 0.558\n",
      "Epoch 149 Batch   57/107   train_loss = 0.582\n",
      "Epoch 150 Batch    0/107   train_loss = 0.515\n",
      "Epoch 150 Batch   50/107   train_loss = 0.471\n",
      "Epoch 150 Batch  100/107   train_loss = 0.524\n",
      "Epoch 151 Batch   43/107   train_loss = 0.515\n",
      "Epoch 151 Batch   93/107   train_loss = 0.513\n",
      "Epoch 152 Batch   36/107   train_loss = 0.491\n",
      "Epoch 152 Batch   86/107   train_loss = 0.487\n",
      "Epoch 153 Batch   29/107   train_loss = 0.577\n",
      "Epoch 153 Batch   79/107   train_loss = 0.538\n",
      "Epoch 154 Batch   22/107   train_loss = 0.486\n",
      "Epoch 154 Batch   72/107   train_loss = 0.513\n",
      "Epoch 155 Batch   15/107   train_loss = 0.533\n",
      "Epoch 155 Batch   65/107   train_loss = 0.473\n",
      "Epoch 156 Batch    8/107   train_loss = 0.532\n",
      "Epoch 156 Batch   58/107   train_loss = 0.513\n",
      "Epoch 157 Batch    1/107   train_loss = 0.475\n",
      "Epoch 157 Batch   51/107   train_loss = 0.578\n",
      "Epoch 157 Batch  101/107   train_loss = 0.572\n",
      "Epoch 158 Batch   44/107   train_loss = 0.720\n",
      "Epoch 158 Batch   94/107   train_loss = 0.628\n",
      "Epoch 159 Batch   37/107   train_loss = 0.740\n",
      "Epoch 159 Batch   87/107   train_loss = 0.720\n",
      "Epoch 160 Batch   30/107   train_loss = 0.849\n",
      "Epoch 160 Batch   80/107   train_loss = 0.997\n",
      "Epoch 161 Batch   23/107   train_loss = 1.067\n",
      "Epoch 161 Batch   73/107   train_loss = 1.096\n",
      "Epoch 162 Batch   16/107   train_loss = 1.212\n",
      "Epoch 162 Batch   66/107   train_loss = 1.323\n",
      "Epoch 163 Batch    9/107   train_loss = 1.307\n",
      "Epoch 163 Batch   59/107   train_loss = 1.288\n",
      "Epoch 164 Batch    2/107   train_loss = 1.196\n",
      "Epoch 164 Batch   52/107   train_loss = 1.014\n",
      "Epoch 164 Batch  102/107   train_loss = 1.299\n",
      "Epoch 165 Batch   45/107   train_loss = 1.221\n",
      "Epoch 165 Batch   95/107   train_loss = 1.141\n",
      "Epoch 166 Batch   38/107   train_loss = 1.086\n",
      "Epoch 166 Batch   88/107   train_loss = 1.091\n"
     ]
    },
    {
     "name": "stdout",
     "output_type": "stream",
     "text": [
      "Epoch 167 Batch   31/107   train_loss = 1.048\n",
      "Epoch 167 Batch   81/107   train_loss = 0.971\n",
      "Epoch 168 Batch   24/107   train_loss = 0.922\n",
      "Epoch 168 Batch   74/107   train_loss = 0.901\n",
      "Epoch 169 Batch   17/107   train_loss = 0.906\n",
      "Epoch 169 Batch   67/107   train_loss = 0.901\n",
      "Epoch 170 Batch   10/107   train_loss = 0.789\n",
      "Epoch 170 Batch   60/107   train_loss = 0.735\n",
      "Epoch 171 Batch    3/107   train_loss = 0.805\n",
      "Epoch 171 Batch   53/107   train_loss = 0.714\n",
      "Epoch 171 Batch  103/107   train_loss = 0.734\n",
      "Epoch 172 Batch   46/107   train_loss = 0.683\n",
      "Epoch 172 Batch   96/107   train_loss = 0.767\n",
      "Epoch 173 Batch   39/107   train_loss = 0.672\n",
      "Epoch 173 Batch   89/107   train_loss = 0.687\n",
      "Epoch 174 Batch   32/107   train_loss = 0.669\n",
      "Epoch 174 Batch   82/107   train_loss = 0.691\n",
      "Epoch 175 Batch   25/107   train_loss = 0.569\n",
      "Epoch 175 Batch   75/107   train_loss = 0.569\n",
      "Epoch 176 Batch   18/107   train_loss = 0.546\n",
      "Epoch 176 Batch   68/107   train_loss = 0.625\n",
      "Epoch 177 Batch   11/107   train_loss = 0.606\n",
      "Epoch 177 Batch   61/107   train_loss = 0.531\n",
      "Epoch 178 Batch    4/107   train_loss = 0.533\n",
      "Epoch 178 Batch   54/107   train_loss = 0.505\n",
      "Epoch 178 Batch  104/107   train_loss = 0.484\n",
      "Epoch 179 Batch   47/107   train_loss = 0.520\n",
      "Epoch 179 Batch   97/107   train_loss = 0.519\n",
      "Epoch 180 Batch   40/107   train_loss = 0.531\n",
      "Epoch 180 Batch   90/107   train_loss = 0.492\n",
      "Epoch 181 Batch   33/107   train_loss = 0.426\n",
      "Epoch 181 Batch   83/107   train_loss = 0.455\n",
      "Epoch 182 Batch   26/107   train_loss = 0.434\n",
      "Epoch 182 Batch   76/107   train_loss = 0.459\n",
      "Epoch 183 Batch   19/107   train_loss = 0.467\n",
      "Epoch 183 Batch   69/107   train_loss = 0.501\n",
      "Epoch 184 Batch   12/107   train_loss = 0.473\n",
      "Epoch 184 Batch   62/107   train_loss = 0.425\n",
      "Epoch 185 Batch    5/107   train_loss = 0.425\n",
      "Epoch 185 Batch   55/107   train_loss = 0.404\n",
      "Epoch 185 Batch  105/107   train_loss = 0.429\n",
      "Epoch 186 Batch   48/107   train_loss = 0.437\n",
      "Epoch 186 Batch   98/107   train_loss = 0.367\n",
      "Epoch 187 Batch   41/107   train_loss = 0.470\n",
      "Epoch 187 Batch   91/107   train_loss = 0.370\n",
      "Epoch 188 Batch   34/107   train_loss = 0.391\n",
      "Epoch 188 Batch   84/107   train_loss = 0.388\n",
      "Epoch 189 Batch   27/107   train_loss = 0.451\n",
      "Epoch 189 Batch   77/107   train_loss = 0.437\n",
      "Epoch 190 Batch   20/107   train_loss = 0.406\n",
      "Epoch 190 Batch   70/107   train_loss = 0.409\n",
      "Epoch 191 Batch   13/107   train_loss = 0.435\n",
      "Epoch 191 Batch   63/107   train_loss = 0.403\n",
      "Epoch 192 Batch    6/107   train_loss = 0.419\n",
      "Epoch 192 Batch   56/107   train_loss = 0.355\n",
      "Epoch 192 Batch  106/107   train_loss = 0.400\n",
      "Epoch 193 Batch   49/107   train_loss = 0.390\n",
      "Epoch 193 Batch   99/107   train_loss = 0.367\n",
      "Epoch 194 Batch   42/107   train_loss = 0.434\n",
      "Epoch 194 Batch   92/107   train_loss = 0.404\n",
      "Epoch 195 Batch   35/107   train_loss = 0.421\n",
      "Epoch 195 Batch   85/107   train_loss = 0.370\n",
      "Epoch 196 Batch   28/107   train_loss = 0.383\n",
      "Epoch 196 Batch   78/107   train_loss = 0.415\n",
      "Epoch 197 Batch   21/107   train_loss = 0.430\n",
      "Epoch 197 Batch   71/107   train_loss = 0.348\n",
      "Epoch 198 Batch   14/107   train_loss = 0.385\n",
      "Epoch 198 Batch   64/107   train_loss = 0.369\n",
      "Epoch 199 Batch    7/107   train_loss = 0.410\n",
      "Epoch 199 Batch   57/107   train_loss = 0.390\n",
      "Model Trained and Saved\n"
     ]
    }
   ],
   "source": [
    "\"\"\"\n",
    "DON'T MODIFY ANYTHING IN THIS CELL\n",
    "\"\"\"\n",
    "batches = get_batches(int_text, batch_size, seq_length)\n",
    "\n",
    "with tf.Session(graph=train_graph) as sess:\n",
    "    sess.run(tf.global_variables_initializer())\n",
    "\n",
    "    for epoch_i in range(num_epochs):\n",
    "        state = sess.run(initial_state, {input_text: batches[0][0]})\n",
    "\n",
    "        for batch_i, (x, y) in enumerate(batches):\n",
    "            feed = {\n",
    "                input_text: x,\n",
    "                targets: y,\n",
    "                initial_state: state,\n",
    "                lr: learning_rate}\n",
    "            train_loss, state, _ = sess.run([cost, final_state, train_op], feed)\n",
    "\n",
    "            # Show every <show_every_n_batches> batches\n",
    "            if (epoch_i * len(batches) + batch_i) % show_every_n_batches == 0:\n",
    "                print('Epoch {:>3} Batch {:>4}/{}   train_loss = {:.3f}'.format(\n",
    "                    epoch_i,\n",
    "                    batch_i,\n",
    "                    len(batches),\n",
    "                    train_loss))\n",
    "\n",
    "    # Save Model\n",
    "    saver = tf.train.Saver()\n",
    "    saver.save(sess, save_dir)\n",
    "    print('Model Trained and Saved')"
   ]
  },
  {
   "cell_type": "markdown",
   "metadata": {},
   "source": [
    "## Save Parameters\n",
    "Save `seq_length` and `save_dir` for generating a new TV script."
   ]
  },
  {
   "cell_type": "code",
   "execution_count": 18,
   "metadata": {
    "collapsed": true
   },
   "outputs": [],
   "source": [
    "\"\"\"\n",
    "DON'T MODIFY ANYTHING IN THIS CELL\n",
    "\"\"\"\n",
    "# Save parameters for checkpoint\n",
    "helper.save_params((seq_length, save_dir))"
   ]
  },
  {
   "cell_type": "markdown",
   "metadata": {},
   "source": [
    "# Checkpoint"
   ]
  },
  {
   "cell_type": "code",
   "execution_count": 19,
   "metadata": {
    "collapsed": true
   },
   "outputs": [],
   "source": [
    "\"\"\"\n",
    "DON'T MODIFY ANYTHING IN THIS CELL\n",
    "\"\"\"\n",
    "import tensorflow as tf\n",
    "import numpy as np\n",
    "import helper\n",
    "import problem_unittests as tests\n",
    "\n",
    "_, vocab_to_int, int_to_vocab, token_dict = helper.load_preprocess()\n",
    "seq_length, load_dir = helper.load_params()"
   ]
  },
  {
   "cell_type": "markdown",
   "metadata": {},
   "source": [
    "## Implement Generate Functions\n",
    "### Get Tensors\n",
    "Get tensors from `loaded_graph` using the function [`get_tensor_by_name()`](https://www.tensorflow.org/api_docs/python/tf/Graph#get_tensor_by_name).  Get the tensors using the following names:\n",
    "- \"input:0\"\n",
    "- \"initial_state:0\"\n",
    "- \"final_state:0\"\n",
    "- \"probs:0\"\n",
    "\n",
    "Return the tensors in the following tuple `(InputTensor, InitialStateTensor, FinalStateTensor, ProbsTensor)` "
   ]
  },
  {
   "cell_type": "code",
   "execution_count": 20,
   "metadata": {},
   "outputs": [
    {
     "name": "stdout",
     "output_type": "stream",
     "text": [
      "Tests Passed\n"
     ]
    }
   ],
   "source": [
    "def get_tensors(loaded_graph):\n",
    "    \"\"\"\n",
    "    Get input, initial state, final state, and probabilities tensor from <loaded_graph>\n",
    "    :param loaded_graph: TensorFlow graph loaded from file\n",
    "    :return: Tuple (InputTensor, InitialStateTensor, FinalStateTensor, ProbsTensor)\n",
    "    \"\"\"\n",
    "    InputTensor = loaded_graph.get_tensor_by_name('input:0')\n",
    "    InitialStateTensor = loaded_graph.get_tensor_by_name('initial_state:0')\n",
    "    FinalStateTensor = loaded_graph.get_tensor_by_name('final_state:0')\n",
    "    ProbsTensor = loaded_graph.get_tensor_by_name('probs:0')\n",
    "    return InputTensor, InitialStateTensor, FinalStateTensor, ProbsTensor\n",
    "\n",
    "\n",
    "\"\"\"\n",
    "DON'T MODIFY ANYTHING IN THIS CELL THAT IS BELOW THIS LINE\n",
    "\"\"\"\n",
    "tests.test_get_tensors(get_tensors)"
   ]
  },
  {
   "cell_type": "markdown",
   "metadata": {},
   "source": [
    "### Choose Word\n",
    "Implement the `pick_word()` function to select the next word using `probabilities`."
   ]
  },
  {
   "cell_type": "code",
   "execution_count": 21,
   "metadata": {},
   "outputs": [
    {
     "data": {
      "text/plain": [
       "6779"
      ]
     },
     "execution_count": 21,
     "metadata": {},
     "output_type": "execute_result"
    }
   ],
   "source": [
    "len(list(vocab_to_int.keys()))"
   ]
  },
  {
   "cell_type": "code",
   "execution_count": 22,
   "metadata": {},
   "outputs": [
    {
     "data": {
      "text/plain": [
       "6779"
      ]
     },
     "execution_count": 22,
     "metadata": {},
     "output_type": "execute_result"
    }
   ],
   "source": [
    "len(list(int_to_vocab.values()))"
   ]
  },
  {
   "cell_type": "code",
   "execution_count": 23,
   "metadata": {},
   "outputs": [
    {
     "name": "stdout",
     "output_type": "stream",
     "text": [
      "Tests Passed\n"
     ]
    }
   ],
   "source": [
    "def pick_word(probabilities, int_to_vocab):\n",
    "    \"\"\"\n",
    "    Pick the next word in the generated text\n",
    "    :param probabilities: Probabilites of the next word\n",
    "    :param int_to_vocab: Dictionary of word ids as the keys and words as the values\n",
    "    :return: String of the predicted word\n",
    "    \"\"\"\n",
    "    return np.random.choice(list(int_to_vocab.values()), p = probabilities)\n",
    "\n",
    "\n",
    "\"\"\"\n",
    "DON'T MODIFY ANYTHING IN THIS CELL THAT IS BELOW THIS LINE\n",
    "\"\"\"\n",
    "tests.test_pick_word(pick_word)"
   ]
  },
  {
   "cell_type": "markdown",
   "metadata": {},
   "source": [
    "## Generate TV Script\n",
    "This will generate the TV script for you.  Set `gen_length` to the length of TV script you want to generate."
   ]
  },
  {
   "cell_type": "code",
   "execution_count": 24,
   "metadata": {},
   "outputs": [
    {
     "name": "stdout",
     "output_type": "stream",
     "text": [
      "moe_szyslak: really?\n",
      "homer_simpson: yeah, they're italian.\n",
      "moe_szyslak: oh...\n",
      "homer_simpson: is that a lot of things.\n",
      "moe_szyslak: homer, that is going to hide with a good drink, but i... and you know the chinese were spyin' on ya?\n",
      "homer_simpson: barney.\n",
      "homer_simpson:(to moe) the only.(reading) you got... when i come on, don't have a kid and yellow lights...\n",
      "barney_gumble:(counting) hi, maybe you're just gonna be the world, and clean you just use this...(nervous menace) sounds good.\n",
      "homer_simpson: here is it that one kidney.(looking up) hi you, homer) you're close it.\n",
      "moe_szyslak:(laughs) this is the one!\n",
      "carl_carlson: our good one of what they hated me you...\n",
      "homer_simpson: i wasn't your daughter like you to clean and tell her with me.\n",
      "homer_simpson:(to moe) i think is the best friend?\n",
      "moe_szyslak: i'm gonna need\n"
     ]
    }
   ],
   "source": [
    "gen_length = 200\n",
    "# homer_simpson, moe_szyslak, or Barney_Gumble\n",
    "prime_word = 'moe_szyslak'\n",
    "\n",
    "\"\"\"\n",
    "DON'T MODIFY ANYTHING IN THIS CELL THAT IS BELOW THIS LINE\n",
    "\"\"\"\n",
    "loaded_graph = tf.Graph()\n",
    "with tf.Session(graph=loaded_graph) as sess:\n",
    "    # Load saved model\n",
    "    loader = tf.train.import_meta_graph(load_dir + '.meta')\n",
    "    loader.restore(sess, load_dir)\n",
    "\n",
    "    # Get Tensors from loaded model\n",
    "    input_text, initial_state, final_state, probs = get_tensors(loaded_graph)\n",
    "\n",
    "    # Sentences generation setup\n",
    "    gen_sentences = [prime_word + ':']\n",
    "    prev_state = sess.run(initial_state, {input_text: np.array([[1]])})\n",
    "\n",
    "    # Generate sentences\n",
    "    for n in range(gen_length):\n",
    "        # Dynamic Input\n",
    "        dyn_input = [[vocab_to_int[word] for word in gen_sentences[-seq_length:]]]\n",
    "        dyn_seq_length = len(dyn_input[0])\n",
    "\n",
    "        # Get Prediction\n",
    "        probabilities, prev_state = sess.run(\n",
    "            [probs, final_state],\n",
    "            {input_text: dyn_input, initial_state: prev_state})\n",
    "        \n",
    "        pred_word = pick_word(probabilities[dyn_seq_length-1], int_to_vocab)\n",
    "\n",
    "        gen_sentences.append(pred_word)\n",
    "    \n",
    "    # Remove tokens\n",
    "    tv_script = ' '.join(gen_sentences)\n",
    "    for key, token in token_dict.items():\n",
    "        ending = ' ' if key in ['\\n', '(', '\"'] else ''\n",
    "        tv_script = tv_script.replace(' ' + token.lower(), key)\n",
    "    tv_script = tv_script.replace('\\n ', '\\n')\n",
    "    tv_script = tv_script.replace('( ', '(')\n",
    "        \n",
    "    print(tv_script)"
   ]
  },
  {
   "cell_type": "markdown",
   "metadata": {},
   "source": [
    "# The TV Script is Nonsensical\n",
    "It's ok if the TV script doesn't make any sense.  We trained on less than a megabyte of text.  In order to get good results, you'll have to use a smaller vocabulary or get more data.  Luckly there's more data!  As we mentioned in the begging of this project, this is a subset of [another dataset](https://www.kaggle.com/wcukierski/the-simpsons-by-the-data).  We didn't have you train on all the data, because that would take too long.  However, you are free to train your neural network on all the data.  After you complete the project, of course.\n",
    "# Submitting This Project\n",
    "When submitting this project, make sure to run all the cells before saving the notebook. Save the notebook file as \"dlnd_tv_script_generation.ipynb\" and save it as a HTML file under \"File\" -> \"Download as\". Include the \"helper.py\" and \"problem_unittests.py\" files in your submission."
   ]
  }
 ],
 "metadata": {
  "kernelspec": {
   "display_name": "Python 3",
   "language": "python",
   "name": "python3"
  },
  "language_info": {
   "codemirror_mode": {
    "name": "ipython",
    "version": 3
   },
   "file_extension": ".py",
   "mimetype": "text/x-python",
   "name": "python",
   "nbconvert_exporter": "python",
   "pygments_lexer": "ipython3",
   "version": "3.6.0"
  },
  "widgets": {
   "state": {},
   "version": "1.1.2"
  }
 },
 "nbformat": 4,
 "nbformat_minor": 1
}
